{
 "cells": [
  {
   "cell_type": "markdown",
   "id": "8cc73aba",
   "metadata": {
    "cell_id": 1
   },
   "source": [
    "# 学习记忆重点总结"
   ]
  },
  {
   "cell_type": "markdown",
   "id": "0fe8c6f2",
   "metadata": {
    "cell_id": 17
   },
   "source": [
    "**cheatsheet**\n",
    "1. print(f'a+b:{a+b})     #f'+{显示变量值}\n",
    "\n"
   ]
  },
  {
   "cell_type": "markdown",
   "id": "981f4e31",
   "metadata": {
    "cell_id": 3
   },
   "source": [
    "# 1. Python基础"
   ]
  },
  {
   "cell_type": "markdown",
   "id": "5b11ba6c",
   "metadata": {
    "cell_id": 5
   },
   "source": [
    "1. 变量命名  \n",
    "    不能以数字开头  \n",
    "    \n",
    "    \n",
    "2. 常见数据类型  \n",
    "\n",
    "\n",
    "3. 数字与运算   \n",
    "    x and y ：如果x为FALSE，则返回FALSE，否则返回y的计算值；本质上就是and会判断是否同时为真，若为真返回y，若为假返回0或FALSE  \n",
    "    x or y ：如果x为False，则返回y,如果x是True则返回x;本质上or是判断x和y是否至少一个为真，若为真返回x或y(不为0)，若为假则返回0/False  \n",
    "    not x：若x为真，则返回False,若x为假，则返回True  \n",
    "    PS:0对应bool中的False；bool是int的一种特例  \n",
    "    \n",
    "    \n",
    "4. 字符串  \n",
    "   1. 在字符串前加'r'可以让原本的转义字符有文本意义：r'.\\test.txt\\' \\表示空一段距离\n",
    "   2. 常用操作：cont(),find(),index(),replace(a,b),split(\",\"),切片[start：end：step]、lower/upper/strip/title/join  \n",
    "   \n",
    "   \n",
    "5. 列表 [] 有序\n",
    "    列表生成式：[表达式i 循环体（for） 条件语句(if)]\n",
    "    列表常用操作：append(),extend(),del(),pop(0),remove(),insrt(),in(),not in(),切片[start：end：step]\n",
    "                index(),count(),sort()\n",
    "    创建二维列表[[表达式i 循环体（for） 条件语句(if) column生成 ]作为表达式i 循环体for 条件语句if row生成]\n",
    "    二维列表切片：\n",
    "        纯数字的二维列表可以转成np.array，进行切片\n",
    "        多种元素的二维列表可以用for列表生成式 进行切片[list[i][:] for i in range(3)]  \n",
    "       \n",
    "       \n",
    "6. 元祖（）\n",
    "    del删除整个元祖、len(),list(),tuple() \n",
    "    \n",
    "    \n",
    "7. 集合 set() / {}\n",
    "    常用函数：add(),update(),discard(),pop(),remove(),clear(),in() not in()\n",
    "    集合交并补： difference()返回第一个在第二个中没有的元素,difference_update()删除第一个在第二个中存在元素,intersection()求交集,union()求并集  \n",
    "    \n",
    "    \n",
    "8. 字典 {} 无序、一种映射类型，通过键来存取，而非偏移\n",
    "    常用函数：del ,pop(),key(),values(),items(),get()\n",
    "    一个间对应多个值的创建方法 （if not in）\n",
    "    \n",
    "9. 数据类型之间的转换\n",
    "    str(),float(),列表字符串-数值：map(lambda x:),list-字典：dict(zip(l2,l2)),元祖-字典：dict(tuple())，字符串格式的字典-字典 eval()\n",
    "    \n",
    "10. 条件和循环  \n",
    "\n",
    "if条件：   \n",
    "    \n",
    "    if:\n",
    "        \n",
    "    elif:\n",
    "        \n",
    "        if:\n",
    "           \n",
    "        else:\n",
    "             \n",
    "    else:\n",
    "    break#跳出循环\n",
    "        \n",
    "循环  \n",
    "   \n",
    "   \n",
    " for循环：   \n",
    " \n",
    "    for i in range(): #range()默认从零开始，前闭后闭range(1)=(0,1)  \n",
    "    \n",
    "    \n",
    " while 循环： \n",
    " \n",
    "      while 条件表达式true:  \n",
    "          …………\n",
    "小练习：\n",
    "#无放回排列：限制去重后数据长度 if len(set(x,y,z))==3:\n",
    "                                list.append(list(x,y,z))"
   ]
  },
  {
   "cell_type": "markdown",
   "id": "d4506301",
   "metadata": {
    "cell_id": 7
   },
   "source": [
    "11. 函数  \n",
    "\n",
    "    传参 \n",
    "    1. 位置参数，通过参数位置将对应的值赋给对应的变量，当函数含有默认值时定义时传入arg=n ，调用时不传则使用默认值\n",
    "    2. 可变参数以元祖的形式存在 *args，可变参数前的默认参数，不能跳过传参\n",
    "    3. 关键字参数允许你传入0个或任意个含参数名的参数，这些关键字参数在函数内部自动组装为一个dict. **kwargs\n",
    "    4. 参数顺序：位置参数，默认参数，*arg 可变参数， \\**kwargs关键字参数！！！！否则会报错  \n",
    "    \n",
    "    变量\n",
    "    1. 不生声明global，不能更改全局变量，只能新设一个同名的局部变量，仅在函数内可访问生效\n",
    "    2. 不同的函数，可以定义相同的名字的局部变量，但是各用各的不会产生影响局部变量的作用\n",
    "    3. 函数内修改全局变量需要在函数内声明 global 变量名\n",
    "     \n",
    "     \n",
    "12. Python IO  (目前使用较少，详情见具体内容)\n",
    "    1. input函数接受一个标准输入数据，返回数据为string的类型\n",
    "    2. 读写   \n",
    "       1. with open(地址，r/a/w/w+) as f: \n",
    "       2. f.write() .read() .close()#使用后必须close\n",
    "       3. encoding编码方式常见的使用'utf-8'和'gbk',https://zhuanlan.zhihu.com/p/40834093\n",
    "\n",
    "13. 匿名函数lambda  \n",
    "\n",
    "    （lambda x,y : 关于x、y的计算表达式）相当于一个function  \n",
    "    eg: [(lambda x:x*x) (x) for x in range(10)]\n",
    "    \n",
    "    \n",
    "14. python的内置函数  \n",
    "    1. 查看内置函数：import builtins\n",
    "                dir(builtins)\n",
    "    2. map()主要联合其他函数使用，将函数依次作用到序列的每个元素，得到一个新的序列。\n",
    "    3. filter()是将传入的函数依次作用于每个元素，然后根据返回值是True还是False决定保留还是丢弃该元素，主要对序列的值进行过滤\n",
    "    4. sorted()接受一个key函数来实现对可迭代对象进行自定的排序\n",
    "    5. reduce()指定列表中两两相邻元素的结合条件\n",
    "   15. **迭代器和生成器**    \n",
    "       迭代器：是访问集合元素的一种方式。迭代器从访问集合的第一个元素开始，直到所有元素被访问完结束。迭代器只能前进不能后退，迭代器有两个基本方法iter()和next()   \n",
    "       生成器：在Python中，使用了**yield**的函数被称为生成器，和其他函数不同的是，每当程序执行完语句时，程序就会暂停执行。不仅如此，即便调用生成器函数，Python解释器也不会执行函数中的代码，它只会返回一个生成器(对象)\n",
    "   \n",
    "    "
   ]
  },
  {
   "cell_type": "markdown",
   "id": "922efe09",
   "metadata": {
    "cell_id": 10
   },
   "source": [
    "15. 模块:   \n",
    "    import模块：导入一个模块；注：相当于导入的是一个文件。   \n",
    "    from……import：导入了一个模块中的一个函数；注：导入的是一个文件中的函数。   \n",
    "    包（package）=目录 + init.py文件（init.py文件可以是空的，但是必须存在，其他程序才能从这个目录中**导入**相应的模块或函数。）   \n",
    "    注意：这里的.py文件不能通过rename的形式获得，而是需要下载保存为py后再上传到包文件夹下\n",
    "16. datetime模块   \n",
    "        datetime:from datetime import datetime    \n",
    "17. time:模块主要用于计算程序时间\n",
    "18.random:方法返回随机生成的一个实数，不指定范围时默认在[0,1)范围内   \n",
    "    a = random.random()#产生0,1之间的随机浮点数   \n",
    "    b = random.randint(1,4)#产生a到b的一个整数随机数    \n",
    "    c = random.uniform(1.1,3.5)#产生a,b之间的随机浮点数，区间可以不是整数   \n",
    "    d = random.choice('wky')#从序列中随机选取一个元素    \n",
    "    e = random.randrange(1,100,2)#生成从1到100的间隔为2的随机整数（都是计数），不加2时输出1,100之间的整数同randint   \n",
    "    list1 = [1,2,3,4,5,6,6,6]    \n",
    "    f = random.shuffle(list1)#打乱输入的序列   \n",
    "    print(list1)#注意这里不是print(f)!!!   \n",
    " \n",
    "    print(random.sample(list1,5))\n",
    "    \n",
    "19. OS模块：来处理文件和目录   \n",
    "    创建、输出目录、重命名、删除   \n",
    "    os.sep#不同的操作系统对应的分隔符可能不同   \n",
    "    #使用系统的路径分割符，将各个部分组合成一个路径，当我们需要遍历文件夹下所有文件时，文件的根目录相同，通常会使用os.path.join进行拼接\n",
    "    os.path.join('./test','test.txt')\n",
    "20.re模块：  \n",
    "正则表达式(https://www.cnblogs.com/shenjianping/p/11647473.html) 是一个特殊的字符序列，它能帮助你方便的检查一个字符串是否与某种模式匹配re可以制定匹配格式flags,re.I(忽略大小写)，re.M(多行匹配),re.S(可以匹配包括换行符的所有字符)\n",
    "        \n",
    "21. 模块的安装：当需要安装多个库时可以使用 pip install matplotlib==3.1.3 sklearn==0.0 sqlitedict==1.7.0 PyTurboJPEG==1.4.3 opencv-contrib-python==4.5.1.48 pyyaml==5.2 pycocotools==2.0.2 imgaug==0.4.0 albumentations==0.5.2 pylint==2.8.2,在命令行直接安装\n",
    "\n",
    "\n",
    "\n",
    "\n"
   ]
  },
  {
   "cell_type": "markdown",
   "id": "97ea78f2",
   "metadata": {
    "cell_id": 8
   },
   "source": [
    "22. **类** \n",
    " 1. 类（class）：用来描述具有相同的属性和方法的对象的集合。它定义了该集合中每个对象所**共有的属性和方法**。对象是类的实例。类就是在描述「是什么，有什么特征」\n",
    " 2. 类变量：类变量在整个实例化的对象中是共用的。类变量定义自类中，且在函数体制外。类变量通常不作为实例变量使用。   \n",
    " *类变量>实例变量，改变实例变量不会影响类变量，相当于在实例中新建一个实例变量；* \n",
    " 3. 函数/功能：对于在该类下生成的实例的一些变形操作、计算；\n",
    " 3. 继承：即一个派生类（derived class）继承基类（父类）（base class）的字段和方法。\n",
    " 4. 覆盖/方法重写：如从父类继承的方法不能满足子类的需求，可以对其进行改写，这个过程叫方法的覆盖（overwrite），也称为方法的重写。\n",
    " 5. 实例化：创建一个类的实例，类的具体对象。\n",
    " 6. 装饰器@classmethod 继承cls(class) 用于格式化批量传参生成实例 | @staticmetod 比较独立性，不用继承self或class，用于一些有些关联的功能使用，主要出于整体代码美观性的考量？ \n",
    " 7. isinstance()是否是实例,issubclass()是否是子类 用法\n",
    "可以参考视频：https://www.bilibili.com/video/BV1Kg411P72E?spm_id_from=333.999.0.0&vd_source=6210010294dec82cce967eca4cc817f6\n"
   ]
  },
  {
   "cell_type": "markdown",
   "id": "06ac2c9b",
   "metadata": {
    "cell_id": 15
   },
   "source": [
    "# 2. 线性代数与Numpy"
   ]
  },
  {
   "cell_type": "code",
   "execution_count": null,
   "id": "038c2dc0",
   "metadata": {
    "cell_id": 16
   },
   "outputs": [],
   "source": []
  },
  {
   "cell_type": "markdown",
   "id": "f924e0f1",
   "metadata": {
    "cell_id": 20
   },
   "source": [
    "# 3. 统计分析与Pandas"
   ]
  },
  {
   "cell_type": "code",
   "execution_count": null,
   "id": "1db63c77",
   "metadata": {
    "cell_id": 21
   },
   "outputs": [],
   "source": []
  },
  {
   "cell_type": "markdown",
   "id": "92306e9c",
   "metadata": {
    "cell_id": 23
   },
   "source": [
    "# 4. 数据处理与可视化 "
   ]
  },
  {
   "cell_type": "code",
   "execution_count": null,
   "id": "5ced0983",
   "metadata": {
    "cell_id": 25
   },
   "outputs": [],
   "source": []
  }
 ],
 "metadata": {
  "kernelspec": {
   "display_name": "Python 3",
   "language": "python",
   "name": "python3"
  },
  "language_info": {
   "codemirror_mode": {
    "name": "ipython",
    "version": 3
   },
   "file_extension": ".py",
   "mimetype": "text/x-python",
   "name": "python",
   "nbconvert_exporter": "python",
   "pygments_lexer": "ipython3",
   "version": "3.7.12"
  },
  "max_cell_id": 26
 },
 "nbformat": 4,
 "nbformat_minor": 5
}
