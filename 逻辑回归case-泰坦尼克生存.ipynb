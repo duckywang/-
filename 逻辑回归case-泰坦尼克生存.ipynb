{
 "cells": [
  {
   "cell_type": "code",
   "execution_count": 3,
   "id": "c7b326d6",
   "metadata": {
    "cell_id": 1
   },
   "outputs": [
    {
     "name": "stderr",
     "output_type": "stream",
     "text": [
      "Duplicate key in file PosixPath('/opt/conda/lib/python3.7/site-packages/matplotlib/mpl-data/matplotlibrc'), line 768 ('font.family  : sans-serif')\n",
      "Duplicate key in file PosixPath('/opt/conda/lib/python3.7/site-packages/matplotlib/mpl-data/matplotlibrc'), line 769 ('font.sans-serif : SimHei, DejaVu Sans, Bitstream Vera Sans, Computer Modern Sans Serif, Lucida Grande, Verdana, Geneva, Lucid, Arial, Helvetica, Avant Garde, sans-serif')\n",
      "Duplicate key in file PosixPath('/opt/conda/lib/python3.7/site-packages/matplotlib/mpl-data/matplotlibrc'), line 770 ('axes.unicode_minus : False')\n"
     ]
    }
   ],
   "source": [
    " \n",
    "import numpy as np\n",
    "import pandas as pd\n",
    "import matplotlib.pyplot as plt \n",
    "import seaborn as sns\n",
    "import re\n",
    "from sklearn.linear_model import LogisticRegression\n",
    "from sklearn.preprocessing import StandardScaler, PolynomialFeatures, OneHotEncoder\n",
    "\n",
    "%matplotlib inline"
   ]
  },
  {
   "cell_type": "code",
   "execution_count": 4,
   "id": "3c97c532",
   "metadata": {
    "cell_id": 2
   },
   "outputs": [
    {
     "name": "stdout",
     "output_type": "stream",
     "text": [
      "gender_submission.csv  test.csv  train.csv\r\n"
     ]
    }
   ],
   "source": [
    "!ls ./titanic"
   ]
  },
  {
   "cell_type": "code",
   "execution_count": 5,
   "id": "2077f6a1",
   "metadata": {
    "cell_id": 3
   },
   "outputs": [],
   "source": [
    "train = pd.read_csv(\"./titanic/train.csv\")\n",
    "test = pd.read_csv(\"./titanic/test.csv\")\n",
    "submission = pd.read_csv(\"./titanic/gender_submission.csv\")"
   ]
  },
  {
   "cell_type": "code",
   "execution_count": 6,
   "id": "c9024595",
   "metadata": {
    "cell_id": 4
   },
   "outputs": [
    {
     "data": {
      "text/html": [
       "<div>\n",
       "<style scoped>\n",
       "    .dataframe tbody tr th:only-of-type {\n",
       "        vertical-align: middle;\n",
       "    }\n",
       "\n",
       "    .dataframe tbody tr th {\n",
       "        vertical-align: top;\n",
       "    }\n",
       "\n",
       "    .dataframe thead th {\n",
       "        text-align: right;\n",
       "    }\n",
       "</style>\n",
       "<table border=\"1\" class=\"dataframe\">\n",
       "  <thead>\n",
       "    <tr style=\"text-align: right;\">\n",
       "      <th></th>\n",
       "      <th>PassengerId</th>\n",
       "      <th>Survived</th>\n",
       "      <th>Pclass</th>\n",
       "      <th>Name</th>\n",
       "      <th>Sex</th>\n",
       "      <th>Age</th>\n",
       "      <th>SibSp</th>\n",
       "      <th>Parch</th>\n",
       "      <th>Ticket</th>\n",
       "      <th>Fare</th>\n",
       "      <th>Cabin</th>\n",
       "      <th>Embarked</th>\n",
       "    </tr>\n",
       "  </thead>\n",
       "  <tbody>\n",
       "    <tr>\n",
       "      <th>0</th>\n",
       "      <td>1</td>\n",
       "      <td>0</td>\n",
       "      <td>3</td>\n",
       "      <td>Braund, Mr. Owen Harris</td>\n",
       "      <td>male</td>\n",
       "      <td>22.0</td>\n",
       "      <td>1</td>\n",
       "      <td>0</td>\n",
       "      <td>A/5 21171</td>\n",
       "      <td>7.2500</td>\n",
       "      <td>NaN</td>\n",
       "      <td>S</td>\n",
       "    </tr>\n",
       "    <tr>\n",
       "      <th>1</th>\n",
       "      <td>2</td>\n",
       "      <td>1</td>\n",
       "      <td>1</td>\n",
       "      <td>Cumings, Mrs. John Bradley (Florence Briggs Th...</td>\n",
       "      <td>female</td>\n",
       "      <td>38.0</td>\n",
       "      <td>1</td>\n",
       "      <td>0</td>\n",
       "      <td>PC 17599</td>\n",
       "      <td>71.2833</td>\n",
       "      <td>C85</td>\n",
       "      <td>C</td>\n",
       "    </tr>\n",
       "    <tr>\n",
       "      <th>2</th>\n",
       "      <td>3</td>\n",
       "      <td>1</td>\n",
       "      <td>3</td>\n",
       "      <td>Heikkinen, Miss. Laina</td>\n",
       "      <td>female</td>\n",
       "      <td>26.0</td>\n",
       "      <td>0</td>\n",
       "      <td>0</td>\n",
       "      <td>STON/O2. 3101282</td>\n",
       "      <td>7.9250</td>\n",
       "      <td>NaN</td>\n",
       "      <td>S</td>\n",
       "    </tr>\n",
       "    <tr>\n",
       "      <th>3</th>\n",
       "      <td>4</td>\n",
       "      <td>1</td>\n",
       "      <td>1</td>\n",
       "      <td>Futrelle, Mrs. Jacques Heath (Lily May Peel)</td>\n",
       "      <td>female</td>\n",
       "      <td>35.0</td>\n",
       "      <td>1</td>\n",
       "      <td>0</td>\n",
       "      <td>113803</td>\n",
       "      <td>53.1000</td>\n",
       "      <td>C123</td>\n",
       "      <td>S</td>\n",
       "    </tr>\n",
       "    <tr>\n",
       "      <th>4</th>\n",
       "      <td>5</td>\n",
       "      <td>0</td>\n",
       "      <td>3</td>\n",
       "      <td>Allen, Mr. William Henry</td>\n",
       "      <td>male</td>\n",
       "      <td>35.0</td>\n",
       "      <td>0</td>\n",
       "      <td>0</td>\n",
       "      <td>373450</td>\n",
       "      <td>8.0500</td>\n",
       "      <td>NaN</td>\n",
       "      <td>S</td>\n",
       "    </tr>\n",
       "  </tbody>\n",
       "</table>\n",
       "</div>"
      ],
      "text/plain": [
       "   PassengerId  Survived  Pclass  \\\n",
       "0            1         0       3   \n",
       "1            2         1       1   \n",
       "2            3         1       3   \n",
       "3            4         1       1   \n",
       "4            5         0       3   \n",
       "\n",
       "                                                Name     Sex   Age  SibSp  \\\n",
       "0                            Braund, Mr. Owen Harris    male  22.0      1   \n",
       "1  Cumings, Mrs. John Bradley (Florence Briggs Th...  female  38.0      1   \n",
       "2                             Heikkinen, Miss. Laina  female  26.0      0   \n",
       "3       Futrelle, Mrs. Jacques Heath (Lily May Peel)  female  35.0      1   \n",
       "4                           Allen, Mr. William Henry    male  35.0      0   \n",
       "\n",
       "   Parch            Ticket     Fare Cabin Embarked  \n",
       "0      0         A/5 21171   7.2500   NaN        S  \n",
       "1      0          PC 17599  71.2833   C85        C  \n",
       "2      0  STON/O2. 3101282   7.9250   NaN        S  \n",
       "3      0            113803  53.1000  C123        S  \n",
       "4      0            373450   8.0500   NaN        S  "
      ]
     },
     "execution_count": 6,
     "metadata": {},
     "output_type": "execute_result"
    }
   ],
   "source": [
    "train.head()"
   ]
  },
  {
   "cell_type": "code",
   "execution_count": 7,
   "id": "8c97af49",
   "metadata": {
    "cell_id": 5
   },
   "outputs": [
    {
     "data": {
      "text/plain": [
       "(891, 12)"
      ]
     },
     "execution_count": 7,
     "metadata": {},
     "output_type": "execute_result"
    }
   ],
   "source": [
    "train.shape"
   ]
  },
  {
   "cell_type": "code",
   "execution_count": 8,
   "id": "317a7641",
   "metadata": {
    "cell_id": 6
   },
   "outputs": [
    {
     "data": {
      "text/html": [
       "<div>\n",
       "<style scoped>\n",
       "    .dataframe tbody tr th:only-of-type {\n",
       "        vertical-align: middle;\n",
       "    }\n",
       "\n",
       "    .dataframe tbody tr th {\n",
       "        vertical-align: top;\n",
       "    }\n",
       "\n",
       "    .dataframe thead th {\n",
       "        text-align: right;\n",
       "    }\n",
       "</style>\n",
       "<table border=\"1\" class=\"dataframe\">\n",
       "  <thead>\n",
       "    <tr style=\"text-align: right;\">\n",
       "      <th></th>\n",
       "      <th>PassengerId</th>\n",
       "      <th>Pclass</th>\n",
       "      <th>Name</th>\n",
       "      <th>Sex</th>\n",
       "      <th>Age</th>\n",
       "      <th>SibSp</th>\n",
       "      <th>Parch</th>\n",
       "      <th>Ticket</th>\n",
       "      <th>Fare</th>\n",
       "      <th>Cabin</th>\n",
       "      <th>Embarked</th>\n",
       "    </tr>\n",
       "  </thead>\n",
       "  <tbody>\n",
       "    <tr>\n",
       "      <th>0</th>\n",
       "      <td>892</td>\n",
       "      <td>3</td>\n",
       "      <td>Kelly, Mr. James</td>\n",
       "      <td>male</td>\n",
       "      <td>34.5</td>\n",
       "      <td>0</td>\n",
       "      <td>0</td>\n",
       "      <td>330911</td>\n",
       "      <td>7.8292</td>\n",
       "      <td>NaN</td>\n",
       "      <td>Q</td>\n",
       "    </tr>\n",
       "    <tr>\n",
       "      <th>1</th>\n",
       "      <td>893</td>\n",
       "      <td>3</td>\n",
       "      <td>Wilkes, Mrs. James (Ellen Needs)</td>\n",
       "      <td>female</td>\n",
       "      <td>47.0</td>\n",
       "      <td>1</td>\n",
       "      <td>0</td>\n",
       "      <td>363272</td>\n",
       "      <td>7.0000</td>\n",
       "      <td>NaN</td>\n",
       "      <td>S</td>\n",
       "    </tr>\n",
       "    <tr>\n",
       "      <th>2</th>\n",
       "      <td>894</td>\n",
       "      <td>2</td>\n",
       "      <td>Myles, Mr. Thomas Francis</td>\n",
       "      <td>male</td>\n",
       "      <td>62.0</td>\n",
       "      <td>0</td>\n",
       "      <td>0</td>\n",
       "      <td>240276</td>\n",
       "      <td>9.6875</td>\n",
       "      <td>NaN</td>\n",
       "      <td>Q</td>\n",
       "    </tr>\n",
       "    <tr>\n",
       "      <th>3</th>\n",
       "      <td>895</td>\n",
       "      <td>3</td>\n",
       "      <td>Wirz, Mr. Albert</td>\n",
       "      <td>male</td>\n",
       "      <td>27.0</td>\n",
       "      <td>0</td>\n",
       "      <td>0</td>\n",
       "      <td>315154</td>\n",
       "      <td>8.6625</td>\n",
       "      <td>NaN</td>\n",
       "      <td>S</td>\n",
       "    </tr>\n",
       "    <tr>\n",
       "      <th>4</th>\n",
       "      <td>896</td>\n",
       "      <td>3</td>\n",
       "      <td>Hirvonen, Mrs. Alexander (Helga E Lindqvist)</td>\n",
       "      <td>female</td>\n",
       "      <td>22.0</td>\n",
       "      <td>1</td>\n",
       "      <td>1</td>\n",
       "      <td>3101298</td>\n",
       "      <td>12.2875</td>\n",
       "      <td>NaN</td>\n",
       "      <td>S</td>\n",
       "    </tr>\n",
       "  </tbody>\n",
       "</table>\n",
       "</div>"
      ],
      "text/plain": [
       "   PassengerId  Pclass                                          Name     Sex  \\\n",
       "0          892       3                              Kelly, Mr. James    male   \n",
       "1          893       3              Wilkes, Mrs. James (Ellen Needs)  female   \n",
       "2          894       2                     Myles, Mr. Thomas Francis    male   \n",
       "3          895       3                              Wirz, Mr. Albert    male   \n",
       "4          896       3  Hirvonen, Mrs. Alexander (Helga E Lindqvist)  female   \n",
       "\n",
       "    Age  SibSp  Parch   Ticket     Fare Cabin Embarked  \n",
       "0  34.5      0      0   330911   7.8292   NaN        Q  \n",
       "1  47.0      1      0   363272   7.0000   NaN        S  \n",
       "2  62.0      0      0   240276   9.6875   NaN        Q  \n",
       "3  27.0      0      0   315154   8.6625   NaN        S  \n",
       "4  22.0      1      1  3101298  12.2875   NaN        S  "
      ]
     },
     "execution_count": 8,
     "metadata": {},
     "output_type": "execute_result"
    }
   ],
   "source": [
    " \n",
    "test.head()"
   ]
  },
  {
   "cell_type": "code",
   "execution_count": 9,
   "id": "db2239e6",
   "metadata": {
    "cell_id": 7
   },
   "outputs": [
    {
     "data": {
      "text/plain": [
       "(418, 11)"
      ]
     },
     "execution_count": 9,
     "metadata": {},
     "output_type": "execute_result"
    }
   ],
   "source": [
    "test.shape"
   ]
  },
  {
   "cell_type": "code",
   "execution_count": 10,
   "id": "a55cc3ca",
   "metadata": {
    "cell_id": 8
   },
   "outputs": [
    {
     "data": {
      "text/html": [
       "<div>\n",
       "<style scoped>\n",
       "    .dataframe tbody tr th:only-of-type {\n",
       "        vertical-align: middle;\n",
       "    }\n",
       "\n",
       "    .dataframe tbody tr th {\n",
       "        vertical-align: top;\n",
       "    }\n",
       "\n",
       "    .dataframe thead th {\n",
       "        text-align: right;\n",
       "    }\n",
       "</style>\n",
       "<table border=\"1\" class=\"dataframe\">\n",
       "  <thead>\n",
       "    <tr style=\"text-align: right;\">\n",
       "      <th></th>\n",
       "      <th>PassengerId</th>\n",
       "      <th>Survived</th>\n",
       "    </tr>\n",
       "  </thead>\n",
       "  <tbody>\n",
       "    <tr>\n",
       "      <th>0</th>\n",
       "      <td>892</td>\n",
       "      <td>0</td>\n",
       "    </tr>\n",
       "    <tr>\n",
       "      <th>1</th>\n",
       "      <td>893</td>\n",
       "      <td>1</td>\n",
       "    </tr>\n",
       "    <tr>\n",
       "      <th>2</th>\n",
       "      <td>894</td>\n",
       "      <td>0</td>\n",
       "    </tr>\n",
       "    <tr>\n",
       "      <th>3</th>\n",
       "      <td>895</td>\n",
       "      <td>0</td>\n",
       "    </tr>\n",
       "    <tr>\n",
       "      <th>4</th>\n",
       "      <td>896</td>\n",
       "      <td>1</td>\n",
       "    </tr>\n",
       "  </tbody>\n",
       "</table>\n",
       "</div>"
      ],
      "text/plain": [
       "   PassengerId  Survived\n",
       "0          892         0\n",
       "1          893         1\n",
       "2          894         0\n",
       "3          895         0\n",
       "4          896         1"
      ]
     },
     "execution_count": 10,
     "metadata": {},
     "output_type": "execute_result"
    }
   ],
   "source": [
    "submission.head()\n"
   ]
  },
  {
   "cell_type": "code",
   "execution_count": 11,
   "id": "b61d393e",
   "metadata": {
    "cell_id": 9
   },
   "outputs": [
    {
     "data": {
      "text/plain": [
       "PassengerId    0.000000\n",
       "Survived       0.000000\n",
       "Pclass         0.000000\n",
       "Name           0.000000\n",
       "Sex            0.000000\n",
       "Age            0.198653\n",
       "SibSp          0.000000\n",
       "Parch          0.000000\n",
       "Ticket         0.000000\n",
       "Fare           0.000000\n",
       "Cabin          0.771044\n",
       "Embarked       0.002245\n",
       "dtype: float64"
      ]
     },
     "execution_count": 11,
     "metadata": {},
     "output_type": "execute_result"
    }
   ],
   "source": [
    "train.isnull().mean()"
   ]
  },
  {
   "cell_type": "code",
   "execution_count": 12,
   "id": "fe76262b",
   "metadata": {
    "cell_id": 10
   },
   "outputs": [
    {
     "data": {
      "text/plain": [
       "int64      5\n",
       "object     5\n",
       "float64    2\n",
       "dtype: int64"
      ]
     },
     "execution_count": 12,
     "metadata": {},
     "output_type": "execute_result"
    }
   ],
   "source": [
    "train.dtypes.value_counts()\n"
   ]
  },
  {
   "cell_type": "code",
   "execution_count": 13,
   "id": "1ebca03d",
   "metadata": {
    "cell_id": 11
   },
   "outputs": [
    {
     "data": {
      "text/plain": [
       "count    714.000000\n",
       "mean      29.699118\n",
       "std       14.526497\n",
       "min        0.420000\n",
       "25%       20.125000\n",
       "50%       28.000000\n",
       "75%       38.000000\n",
       "max       80.000000\n",
       "Name: Age, dtype: float64"
      ]
     },
     "execution_count": 13,
     "metadata": {},
     "output_type": "execute_result"
    }
   ],
   "source": [
    "train.Age.describe()"
   ]
  },
  {
   "cell_type": "code",
   "execution_count": 14,
   "id": "ee94a9ad",
   "metadata": {
    "cell_id": 12
   },
   "outputs": [
    {
     "data": {
      "text/plain": [
       "<seaborn.axisgrid.FacetGrid at 0x7f67c150ec10>"
      ]
     },
     "execution_count": 14,
     "metadata": {},
     "output_type": "execute_result"
    },
    {
     "data": {
      "image/png": "[encoded data removed]",
      "text/plain": [
       "<Figure size 360x360 with 1 Axes>"
      ]
     },
     "metadata": {
      "needs_background": "light"
     },
     "output_type": "display_data"
    }
   ],
   "source": [
    " sns.displot(train.Age)"
   ]
  },
  {
   "cell_type": "code",
   "execution_count": 15,
   "id": "da9213cd",
   "metadata": {
    "cell_id": 13
   },
   "outputs": [
    {
     "data": {
      "text/plain": [
       "<AxesSubplot:xlabel='Age'>"
      ]
     },
     "execution_count": 15,
     "metadata": {},
     "output_type": "execute_result"
    },
    {
     "data": {
      "image/png": "[encoded data removed]",
      "text/plain": [
       "<Figure size 432x288 with 1 Axes>"
      ]
     },
     "metadata": {
      "needs_background": "light"
     },
     "output_type": "display_data"
    }
   ],
   "source": [
    " train.groupby(pd.cut(train.Age, bins=10))[\"Survived\"].mean().sort_index().plot(kind=\"bar\")"
   ]
  },
  {
   "cell_type": "code",
   "execution_count": 16,
   "id": "b60b7077",
   "metadata": {
    "cell_id": 14
   },
   "outputs": [
    {
     "data": {
      "text/plain": [
       "Sex\n",
       "female    0.742038\n",
       "male      0.188908\n",
       "Name: Survived, dtype: float64"
      ]
     },
     "execution_count": 16,
     "metadata": {},
     "output_type": "execute_result"
    }
   ],
   "source": [
    " \n",
    "train.groupby(\"Sex\")[\"Survived\"].mean()"
   ]
  },
  {
   "cell_type": "code",
   "execution_count": 17,
   "id": "b39aae74",
   "metadata": {
    "cell_id": 15
   },
   "outputs": [
    {
     "data": {
      "text/plain": [
       "Embarked\n",
       "C    0.553571\n",
       "Q    0.389610\n",
       "S    0.336957\n",
       "Name: Survived, dtype: float64"
      ]
     },
     "execution_count": 17,
     "metadata": {},
     "output_type": "execute_result"
    }
   ],
   "source": [
    "train.groupby(\"Embarked\")[\"Survived\"].mean()"
   ]
  },
  {
   "cell_type": "code",
   "execution_count": 18,
   "id": "20c179c7",
   "metadata": {
    "cell_id": 16
   },
   "outputs": [
    {
     "data": {
      "text/plain": [
       "Embarked\n",
       "C    59.954144\n",
       "Q    13.276030\n",
       "S    27.079812\n",
       "Name: Fare, dtype: float64"
      ]
     },
     "execution_count": 18,
     "metadata": {},
     "output_type": "execute_result"
    }
   ],
   "source": [
    "train.groupby(\"Embarked\")[\"Fare\"].mean()"
   ]
  },
  {
   "cell_type": "code",
   "execution_count": 19,
   "id": "25918e40",
   "metadata": {
    "cell_id": 17
   },
   "outputs": [
    {
     "data": {
      "text/plain": [
       "<AxesSubplot:xlabel='SibSp'>"
      ]
     },
     "execution_count": 19,
     "metadata": {},
     "output_type": "execute_result"
    },
    {
     "data": {
      "image/png": "[encoded data removed]",
      "text/plain": [
       "<Figure size 432x288 with 1 Axes>"
      ]
     },
     "metadata": {
      "needs_background": "light"
     },
     "output_type": "display_data"
    }
   ],
   "source": [
    " \n",
    "train.groupby(\"SibSp\")[\"Survived\"].mean().plot()"
   ]
  },
  {
   "cell_type": "code",
   "execution_count": 20,
   "id": "c6e6ddb4",
   "metadata": {
    "cell_id": 18
   },
   "outputs": [
    {
     "data": {
      "text/plain": [
       "<AxesSubplot:xlabel='Parch'>"
      ]
     },
     "execution_count": 20,
     "metadata": {},
     "output_type": "execute_result"
    },
    {
     "data": {
      "image/png": "[encoded data removed]",
      "text/plain": [
       "<Figure size 432x288 with 1 Axes>"
      ]
     },
     "metadata": {
      "needs_background": "light"
     },
     "output_type": "display_data"
    }
   ],
   "source": [
    "train.groupby(\"Parch\")[\"Survived\"].mean().plot()"
   ]
  },
  {
   "cell_type": "code",
   "execution_count": 21,
   "id": "9b6fed3b",
   "metadata": {
    "cell_id": 19
   },
   "outputs": [
    {
     "data": {
      "text/plain": [
       "<AxesSubplot:xlabel='Cabin'>"
      ]
     },
     "execution_count": 21,
     "metadata": {},
     "output_type": "execute_result"
    },
    {
     "data": {
      "image/png": "[encoded data removed]",
      "text/plain": [
       "<Figure size 432x288 with 1 Axes>"
      ]
     },
     "metadata": {
      "needs_background": "light"
     },
     "output_type": "display_data"
    }
   ],
   "source": [
    " \n",
    "train.groupby(\"Cabin\")[\"Survived\"].mean().plot(kind=\"bar\")"
   ]
  },
  {
   "cell_type": "code",
   "execution_count": 22,
   "id": "4935c4fc",
   "metadata": {
    "cell_id": 20
   },
   "outputs": [
    {
     "data": {
      "text/plain": [
       "B96 B98        4\n",
       "C23 C25 C27    4\n",
       "G6             4\n",
       "E101           3\n",
       "F2             3\n",
       "              ..\n",
       "F38            1\n",
       "C111           1\n",
       "A26            1\n",
       "A10            1\n",
       "B86            1\n",
       "Name: Cabin, Length: 147, dtype: int64"
      ]
     },
     "execution_count": 22,
     "metadata": {},
     "output_type": "execute_result"
    }
   ],
   "source": [
    "train[\"Cabin\"].value_counts()"
   ]
  },
  {
   "cell_type": "code",
   "execution_count": 38,
   "id": "93662ef1",
   "metadata": {
    "cell_id": 21
   },
   "outputs": [],
   "source": [
    "def extract_name(x):\n",
    "    x = x.split(\"(\")[0] #取括号前的文本\n",
    "    name1, name2 = x.split(\",\") #取name1\n",
    "    name2, name3 = name2.split(\".\")#取name2，剩余为name3\n",
    "    return [name1.strip().lower(), name2.strip().lower(), name3.strip().lower()]"
   ]
  },
  {
   "cell_type": "code",
   "execution_count": 39,
   "id": "949cb21a",
   "metadata": {
    "cell_id": 22
   },
   "outputs": [],
   "source": [
    "train_names = train.Name.apply(extract_name) \n",
    "test_names = test.Name.apply(extract_name)"
   ]
  },
  {
   "cell_type": "code",
   "execution_count": 40,
   "id": "f7b66093",
   "metadata": {
    "cell_id": 23
   },
   "outputs": [],
   "source": [
    "train[\"name1\"] = [n[0] for n in train_names] \n",
    "train[\"name2\"] = [n[1] for n in train_names] \n",
    "train[\"name3\"] = [n[2] for n in train_names]\n",
    "\n",
    "test[\"name1\"] = [n[0] for n in test_names] \n",
    "test[\"name2\"] = [n[1] for n in test_names] \n",
    "test[\"name3\"] = [n[2] for n in test_names]"
   ]
  },
  {
   "cell_type": "code",
   "execution_count": 41,
   "id": "aa11ecf8",
   "metadata": {
    "cell_id": 24
   },
   "outputs": [
    {
     "data": {
      "text/plain": [
       "                     16\n",
       "william              11\n",
       "john                 10\n",
       "james                 9\n",
       "mary                  6\n",
       "                     ..\n",
       "klas albin            1\n",
       "augusta charlotta     1\n",
       "gustaf joel           1\n",
       "ahmed                 1\n",
       "jeannie               1\n",
       "Name: name3, Length: 714, dtype: int64"
      ]
     },
     "execution_count": 41,
     "metadata": {},
     "output_type": "execute_result"
    }
   ],
   "source": [
    "train.name1.value_counts()\n",
    "train.name2.value_counts()\n",
    "train.name3.value_counts()"
   ]
  },
  {
   "cell_type": "code",
   "execution_count": null,
   "id": "ebb112cc",
   "metadata": {
    "cell_id": 25
   },
   "outputs": [],
   "source": [
    "drop_name2 = train.name2.value_counts().to_frame().query(\"name2<5\").index.tolist()#找到重复个数低于5个的name2并形成列表\n",
    "##注意这里query的用法，对frame可用，引号内输入条件\n",
    "train.loc[train.name2.isin(drop_name2),'name2'] = \"other\" \n",
    "train.loc[train.name2 == 'other', \"name2\"] #在name2里个数低于5个的name都变成了other\n",
    "test.loc[test.name2.isin(drop_name2), \"name2\"] = \"other\"#测试集同理"
   ]
  },
  {
   "cell_type": "code",
   "execution_count": null,
   "id": "1d8ee9d9",
   "metadata": {
    "cell_id": 27
   },
   "outputs": [],
   "source": [
    " \n",
    "train.groupby(\"name2\")[\"Survived\"].agg([\"mean\", \"count\"])"
   ]
  },
  {
   "cell_type": "code",
   "execution_count": null,
   "id": "c92f3b2f",
   "metadata": {
    "cell_id": 28
   },
   "outputs": [],
   "source": [
    "train.drop([\"Name\", \"name1\", \"name3\"], axis=1, inplace=True) \n",
    "test.drop([\"Name\", \"name1\", \"name3\"], axis=1, inplace=True)"
   ]
  },
  {
   "cell_type": "code",
   "execution_count": null,
   "id": "6782ba0b",
   "metadata": {
    "cell_id": 29
   },
   "outputs": [],
   "source": [
    "def extract_ticket(x): \n",
    "    x = x.split(\" \") \n",
    "    if len(x) > 1:\n",
    "        prefix = x[0]\n",
    "        ticket = \" \".join(x[1:]) #把join内的多个元素用.前的字符串隔开组成新的字符串\n",
    "    else:\n",
    "        prefix = \"NULL\" \n",
    "        ticket = x\n",
    "    return prefix.replace(\".\", \"\").lower()#特征截取只保留字符串部分，可能是某种有意义的分类"
   ]
  },
  {
   "cell_type": "code",
   "execution_count": null,
   "id": "ad2ed4b1",
   "metadata": {
    "cell_id": 30
   },
   "outputs": [],
   "source": [
    "train_ticket = train.Ticket.apply(extract_ticket)\n",
    "test_ticket = test.Ticket.apply(extract_ticket)"
   ]
  },
  {
   "cell_type": "code",
   "execution_count": null,
   "id": "873c722e",
   "metadata": {
    "cell_id": 33
   },
   "outputs": [],
   "source": [
    "train[\"Ticket\"] = train_ticket \n",
    "test[\"Ticket\"] = test_ticket"
   ]
  },
  {
   "cell_type": "code",
   "execution_count": null,
   "id": "0da27d03",
   "metadata": {
    "cell_id": 34
   },
   "outputs": [],
   "source": [
    "train.Ticket.value_counts()"
   ]
  },
  {
   "cell_type": "code",
   "execution_count": null,
   "id": "09283fe5",
   "metadata": {
    "cell_id": 35
   },
   "outputs": [],
   "source": [
    " \n",
    "train.isnull().sum()"
   ]
  },
  {
   "cell_type": "code",
   "execution_count": null,
   "id": "3df54ade",
   "metadata": {
    "cell_id": 36
   },
   "outputs": [],
   "source": [
    "test.isnull().sum()"
   ]
  },
  {
   "cell_type": "code",
   "execution_count": null,
   "id": "e9079697",
   "metadata": {
    "cell_id": 37
   },
   "outputs": [],
   "source": [
    "num_train = len(train)\n",
    "train_target = train[\"Survived\"].values\n",
    "\n"
   ]
  },
  {
   "cell_type": "code",
   "execution_count": null,
   "id": "18722ab0",
   "metadata": {
    "cell_id": 38
   },
   "outputs": [],
   "source": [
    "#删除没有信息量的特征和训练集的目标值\n",
    "train.drop([\"PassengerId\", \"Survived\"], axis=1, inplace=True) \n",
    "test.drop([\"PassengerId\"], axis=1, inplace=True)"
   ]
  },
  {
   "cell_type": "code",
   "execution_count": null,
   "id": "68090fc6",
   "metadata": {
    "cell_id": 32
   },
   "outputs": [],
   "source": [
    "data = pd.concat([train, test], axis=0)"
   ]
  },
  {
   "cell_type": "code",
   "execution_count": null,
   "id": "87cf6371",
   "metadata": {
    "cell_id": 39
   },
   "outputs": [],
   "source": [
    " sns.displot(data.Age, bins=30)"
   ]
  },
  {
   "cell_type": "code",
   "execution_count": null,
   "id": "4aed7c2a",
   "metadata": {
    "cell_id": 40
   },
   "outputs": [],
   "source": [
    "#把连续性变量分框转化为分类型变量\n",
    "data[\"Age\"] = pd.cut(data.Age, bins=[0, 5, 10, 15, 20, 25, 30, 35, 40, 50, 60, 100], \n",
    "                     labels=[f\"age_{i}\" for i in range(1, 12)]).astype(str)\n",
    "#年龄的空值还是空值，但是变成了nan "
   ]
  },
  {
   "cell_type": "code",
   "execution_count": null,
   "id": "0e37b0ce",
   "metadata": {
    "cell_id": 41
   },
   "outputs": [],
   "source": [
    "data.isnull().sum() #为什么年龄空值为0，因为转化成了str"
   ]
  },
  {
   "cell_type": "code",
   "execution_count": null,
   "id": "3556dfe1",
   "metadata": {
    "cell_id": 42
   },
   "outputs": [],
   "source": [
    "data[\"Fare\"] = data.Fare.fillna(data.Fare.median()) \n",
    "data[\"Embarked\"] = data.Embarked.fillna(\"S\")"
   ]
  },
  {
   "cell_type": "code",
   "execution_count": null,
   "id": "fdd73fa2",
   "metadata": {
    "cell_id": 43
   },
   "outputs": [],
   "source": [
    " \n",
    "data[\"Cabin\"].unique()"
   ]
  },
  {
   "cell_type": "code",
   "execution_count": null,
   "id": "27a8c2b7",
   "metadata": {
    "cell_id": 44
   },
   "outputs": [],
   "source": [
    "#特征简化提高信息密度：对cabin这类枚举值爆炸但是信息密度低的特征只保留字母\n",
    "data[\"Cabin\"]=data[\"Cabin\"].apply(lambda x:x[0] if isinstance(x, str) else \"null\")#isinstance(x, str) 判断x是否为字符串类型"
   ]
  },
  {
   "cell_type": "code",
   "execution_count": null,
   "id": "226a94e1",
   "metadata": {
    "cell_id": 48
   },
   "outputs": [],
   "source": [
    "#log1p:\n",
    "data[\"Fare\"] = pd.cut(np.log1p(data.Fare), bins=[0, 2, 3, 4, 5, 8], labels=[f\"fare_{i}\" for i in range(1,6)])"
   ]
  },
  {
   "cell_type": "code",
   "execution_count": null,
   "id": "fa71b589",
   "metadata": {
    "cell_id": 49
   },
   "outputs": [],
   "source": [
    "#将可能会有的枚举值收敛到3？有什么用呢？\n",
    "data.loc[data.Parch >= 3, \"Parch\"] = 3"
   ]
  },
  {
   "cell_type": "code",
   "execution_count": null,
   "id": "e1a7470b",
   "metadata": {
    "cell_id": 50
   },
   "outputs": [],
   "source": [
    "\n",
    "data.Parch.value_counts()"
   ]
  },
  {
   "cell_type": "code",
   "execution_count": null,
   "id": "c2643abb",
   "metadata": {
    "cell_id": 51
   },
   "outputs": [],
   "source": [
    "data = data.rename({\"name2\": \"Name\"}, axis=1)"
   ]
  },
  {
   "cell_type": "code",
   "execution_count": null,
   "id": "3d28de34",
   "metadata": {
    "cell_id": 52
   },
   "outputs": [],
   "source": [
    "#如果不转换，下面的onehot编码会报错\n",
    "data[\"Fare\"] = data.Fare.astype(\"str\")"
   ]
  },
  {
   "cell_type": "code",
   "execution_count": null,
   "id": "0926c10e",
   "metadata": {
    "cell_id": 53
   },
   "outputs": [],
   "source": [
    "one_hot = OneHotEncoder(drop=\"first\").fit(data)"
   ]
  },
  {
   "cell_type": "code",
   "execution_count": null,
   "id": "c18cfdbe",
   "metadata": {
    "cell_id": 54
   },
   "outputs": [],
   "source": [
    " \n",
    "data_onehot = one_hot.transform(data)\n"
   ]
  },
  {
   "cell_type": "code",
   "execution_count": null,
   "id": "7ba70bcc",
   "metadata": {
    "cell_id": 55
   },
   "outputs": [],
   "source": [
    "one_hot.categories_#看所有的特征枚举值（前面已经把所有数值类特征转化为分桶的离散特征）"
   ]
  },
  {
   "cell_type": "code",
   "execution_count": null,
   "id": "7feb6402",
   "metadata": {
    "cell_id": 56
   },
   "outputs": [],
   "source": [
    "train = data_onehot[:num_train, :] \n",
    "test = data_onehot[num_train:, :]"
   ]
  },
  {
   "cell_type": "code",
   "execution_count": null,
   "id": "76b1a3b8",
   "metadata": {
    "cell_id": 57
   },
   "outputs": [],
   "source": [
    "model = LogisticRegression() \n",
    "model.fit(train, train_target)"
   ]
  },
  {
   "cell_type": "code",
   "execution_count": null,
   "id": "cf96c72d",
   "metadata": {
    "cell_id": 58
   },
   "outputs": [],
   "source": [
    " \n",
    "model.predict(test)"
   ]
  },
  {
   "cell_type": "code",
   "execution_count": null,
   "id": "ed4c328b",
   "metadata": {
    "cell_id": 59
   },
   "outputs": [],
   "source": [
    "\n",
    "submission[\"Survived\"] = model.predict(test)"
   ]
  },
  {
   "cell_type": "code",
   "execution_count": null,
   "id": "3eab90bb",
   "metadata": {
    "cell_id": 60
   },
   "outputs": [],
   "source": [
    "submission.to_csv(\"./submission.csv\", index=False)"
   ]
  },
  {
   "cell_type": "code",
   "execution_count": null,
   "id": "72396aed",
   "metadata": {
    "cell_id": 61
   },
   "outputs": [],
   "source": []
  },
  {
   "cell_type": "code",
   "execution_count": null,
   "id": "70fc2dc1",
   "metadata": {
    "cell_id": 62
   },
   "outputs": [],
   "source": []
  },
  {
   "cell_type": "code",
   "execution_count": null,
   "id": "b8aa3c15",
   "metadata": {
    "cell_id": 63
   },
   "outputs": [],
   "source": []
  },
  {
   "cell_type": "code",
   "execution_count": null,
   "id": "e3d94f77",
   "metadata": {
    "cell_id": 64
   },
   "outputs": [],
   "source": []
  }
 ],
 "metadata": {
  "kernelspec": {
   "display_name": "Python 3",
   "language": "python",
   "name": "python3"
  },
  "language_info": {
   "codemirror_mode": {
    "name": "ipython",
    "version": 3
   },
   "file_extension": ".py",
   "mimetype": "text/x-python",
   "name": "python",
   "nbconvert_exporter": "python",
   "pygments_lexer": "ipython3",
   "version": "3.7.12"
  },
  "max_cell_id": 65
 },
 "nbformat": 4,
 "nbformat_minor": 5
}
